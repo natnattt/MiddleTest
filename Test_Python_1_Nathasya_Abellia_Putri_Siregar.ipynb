{
  "nbformat": 4,
  "nbformat_minor": 5,
  "metadata": {
    "kernelspec": {
      "display_name": "Python 3",
      "language": "python",
      "name": "python3"
    },
    "language_info": {
      "codemirror_mode": {
        "name": "ipython",
        "version": 3
      },
      "file_extension": ".py",
      "mimetype": "text/x-python",
      "name": "python",
      "nbconvert_exporter": "python",
      "pygments_lexer": "ipython3",
      "version": "3.7.0"
    },
    "colab": {
      "provenance": []
    }
  },
  "cells": [
    {
      "cell_type": "markdown",
      "metadata": {
        "id": "87919d68"
      },
      "source": [
        "### Python 1 : Who is in the third place?"
      ],
      "id": "87919d68"
    },
    {
      "cell_type": "markdown",
      "metadata": {
        "id": "c061c30a"
      },
      "source": [
        "### Task"
      ],
      "id": "c061c30a"
    },
    {
      "cell_type": "markdown",
      "metadata": {
        "id": "66fcf833"
      },
      "source": [
        "Create a function whose name is ```third_place``` that does the following:\n",
        "\n",
        "Given a list of test score and a list of participants name. The desired output would be the name of the participant who gets the 3rd best score. The rule of determining the order of the best score is as follows:\n",
        "- Higher score is better\n",
        "- In case of multiple participants having the same test score, they can occupy the same ranking value. For example, if 2 participants scored 100, then both of them occupy the first place.\n",
        "\n",
        "The first input of the function is the name list, and the second input to the function is the score list."
      ],
      "id": "66fcf833"
    },
    {
      "cell_type": "markdown",
      "metadata": {
        "id": "aee24374"
      },
      "source": [
        "### Example 1:\n",
        "\n",
        "**Input**:\n",
        "- names = [Andi, Budi, Charlie, Dilan, Echa]\n",
        "- score = [80, 90, 95, 100, 85]\n",
        "\n",
        "This means, Andi gets 80, Budi gets 90, Charlie gets 95, Dilan gets 100, and Echa gets 85. The first best score is 100, and Dilan gets it. The second best score is 95, and Charlie gets it. The third best score is 90, and Budi gets it. So, our output should be Budi.\n",
        "\n",
        "**Output**: 'The third winner: Budi'.\n",
        "\n",
        "When we run ```third_place(names, score)```, the output will be 'The third winner: Budi'."
      ],
      "id": "aee24374"
    },
    {
      "cell_type": "markdown",
      "metadata": {
        "id": "e85af386"
      },
      "source": [
        "### Example 2:\n",
        "\n",
        "**Input**:\n",
        "- names = [Andi, Budi, Charlie, Dilan, Echa]\n",
        "- score = [80, 80, 80, 100, 90]\n",
        "\n",
        "This means, Andi, Budi, and Charlie gets 80, Dilan gets 100, and Echa gets 90. The third best score is 80, and our output should list ALL of the participants who get 80.\n",
        "\n",
        "**Output**: 'The third winner: Andi, Budi, Charlie'.\n",
        "\n",
        "When we run ```third_place(names, score)```, the output will be 'The third winner: Andi, Budi, Charlie'."
      ],
      "id": "e85af386"
    },
    {
      "cell_type": "markdown",
      "metadata": {
        "id": "bbeb3f41"
      },
      "source": [
        "### Example 3:\n",
        "\n",
        "**Input**:\n",
        "- names = [Andi, Budi, Charlie, Dilan, Echa, Fanya]\n",
        "- score = [80, 90, 90, 100, 100, 80]\n",
        "\n",
        "The first best score (first winner) is 100 - Dilan and Echa shared this position. The second best score (second winner) is 90 - Budi and Charlie shared this position. The third best score (third winner) is 80, and it is shared by Andi and Fanya. So, our output should be Andi and Fanya.\n",
        "\n",
        "**Output**: 'The third winner: Andi, Fanya'."
      ],
      "id": "bbeb3f41"
    },
    {
      "cell_type": "code",
      "source": [
        "#PERTANYAAN 1:\n",
        "\n",
        "import pandas as pd\n",
        "\n",
        "def third_place(names, scores):\n",
        "    #DataFrame\n",
        "    df = pd.DataFrame({'Name': names, 'Score': scores})\n",
        "\n",
        "    #Ranking score dari atas\n",
        "    df['Rank'] = df['Score'].rank(method='dense', ascending=False)\n",
        "\n",
        "    #Nama di rank ke-3\n",
        "    third_place_name = df.loc[df['Rank'] == 3, 'Name'].iloc[0]\n",
        "    return f'The third winner: {third_place_name}'\n",
        "\n",
        "#Input nilai\n",
        "names = ['Andi', 'Budi', 'Charlie', 'Dilan', 'Echa']\n",
        "scores = [80, 90, 95, 100, 85]\n",
        "print(third_place(names, scores))\n"
      ],
      "metadata": {
        "id": "ANXQim-Y4rAs",
        "colab": {
          "base_uri": "https://localhost:8080/"
        },
        "outputId": "6c942a87-4804-4458-c1a3-cf685bb95141"
      },
      "id": "ANXQim-Y4rAs",
      "execution_count": 16,
      "outputs": [
        {
          "output_type": "stream",
          "name": "stdout",
          "text": [
            "The third winner: Budi\n"
          ]
        }
      ]
    },
    {
      "cell_type": "code",
      "source": [
        "#PERTANYAAN 2:\n",
        "\n",
        "import pandas as pd\n",
        "\n",
        "def third_place(names, scores):\n",
        "    #DataFrame\n",
        "    df = pd.DataFrame({'Name': names, 'Score': scores})\n",
        "\n",
        "    #Ranking score dari atas\n",
        "    df['Rank'] = df['Score'].rank(method='dense', ascending=False)\n",
        "\n",
        "    #Nama di rank ke-3\n",
        "    third_place_names = df.loc[df['Rank'] == 3, 'Name']\n",
        "    return f'The third winner: {\", \".join(third_place_names)}'\n",
        "\n",
        "#Input nilai\n",
        "names = ['Andi', 'Budi', 'Charlie', 'Dilan', 'Echa']\n",
        "scores = [80, 80, 80, 100, 90]\n",
        "print(third_place(names, scores))"
      ],
      "metadata": {
        "colab": {
          "base_uri": "https://localhost:8080/"
        },
        "id": "9wTycJULisFb",
        "outputId": "713dfa2f-91ee-4d8f-e3e2-13d86a0dbf56"
      },
      "id": "9wTycJULisFb",
      "execution_count": 20,
      "outputs": [
        {
          "output_type": "stream",
          "name": "stdout",
          "text": [
            "The third winner: Andi, Budi, Charlie\n"
          ]
        }
      ]
    },
    {
      "cell_type": "code",
      "source": [
        "#PERTANYAAN 3:\n",
        "\n",
        "import pandas as pd\n",
        "\n",
        "def third_place(names, scores):\n",
        "    #DataFrame\n",
        "    df = pd.DataFrame({'Name': names, 'Score': scores})\n",
        "\n",
        "    #Ranking score dari atas\n",
        "    df['Rank'] = df['Score'].rank(method='dense', ascending=False)\n",
        "\n",
        "    #Nama di rank ke-3\n",
        "    third_place_names = df.loc[df['Rank'] == 3, 'Name']\n",
        "    return f'The third winner: {\", \".join(third_place_names)}'\n",
        "\n",
        "#Input nilai\n",
        "names = ['Andi', 'Budi', 'Charlie', 'Dilan', 'Echa', 'Fanya']\n",
        "scores = [80, 90, 90, 100, 100, 80]\n",
        "print(third_place(names, scores))  # Output: 'The third winner: Andi, Fanya'"
      ],
      "metadata": {
        "colab": {
          "base_uri": "https://localhost:8080/"
        },
        "id": "-H67aeqCjRFe",
        "outputId": "665dfe67-1e26-4280-ec23-35d4c4754f8f"
      },
      "id": "-H67aeqCjRFe",
      "execution_count": 21,
      "outputs": [
        {
          "output_type": "stream",
          "name": "stdout",
          "text": [
            "The third winner: Andi, Fanya\n"
          ]
        }
      ]
    }
  ]
}